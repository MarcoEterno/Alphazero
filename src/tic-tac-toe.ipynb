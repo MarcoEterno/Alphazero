{
 "cells": [
  {
   "cell_type": "code",
   "execution_count": 18,
   "metadata": {},
   "outputs": [],
   "source": [
    "import numpy as np\n",
    "import copy"
   ]
  },
  {
   "cell_type": "code",
   "execution_count": 19,
   "metadata": {},
   "outputs": [],
   "source": [
    "from board import Board\n",
    "from tictactoe import TicTacToe\n",
    "from agent import Agent, RandomPlayer\n",
    "from treenode import TreeNode\n",
    "from mcts import MCTS\n"
   ]
  },
  {
   "cell_type": "code",
   "execution_count": 27,
   "metadata": {},
   "outputs": [
    {
     "name": "stdout",
     "output_type": "stream",
     "text": [
      "[0 0 0]\n",
      "[0 0 0]\n",
      "[0 0 0]\n",
      "5\n"
     ]
    },
    {
     "ename": "AttributeError",
     "evalue": "'Board' object has no attribute 'is_valid_move'",
     "output_type": "error",
     "traceback": [
      "\u001b[0;31m---------------------------------------------------------------------------\u001b[0m",
      "\u001b[0;31mAttributeError\u001b[0m                            Traceback (most recent call last)",
      "Cell \u001b[0;32mIn[27], line 25\u001b[0m\n\u001b[1;32m     22\u001b[0m     game\u001b[38;5;241m.\u001b[39mboard\u001b[38;5;241m.\u001b[39mprint_board()\n\u001b[1;32m     23\u001b[0m     \u001b[38;5;28mprint\u001b[39m(\u001b[38;5;124m\"\u001b[39m\u001b[38;5;124mGame over. Winner: \u001b[39m\u001b[38;5;124m\"\u001b[39m, game\u001b[38;5;241m.\u001b[39mget_winner())\n\u001b[0;32m---> 25\u001b[0m \u001b[43mplay_game\u001b[49m\u001b[43m(\u001b[49m\u001b[43m)\u001b[49m\n",
      "Cell \u001b[0;32mIn[27], line 16\u001b[0m, in \u001b[0;36mplay_game\u001b[0;34m()\u001b[0m\n\u001b[1;32m     14\u001b[0m     \u001b[38;5;28mprint\u001b[39m(\u001b[38;5;124m\"\u001b[39m\u001b[38;5;124mPlayer \u001b[39m\u001b[38;5;124m\"\u001b[39m, current_player, \u001b[38;5;124m\"\u001b[39m\u001b[38;5;124m should play, but the board is full\u001b[39m\u001b[38;5;124m\"\u001b[39m)\n\u001b[1;32m     15\u001b[0m     \u001b[38;5;28;01mbreak\u001b[39;00m\n\u001b[0;32m---> 16\u001b[0m \u001b[38;5;28;01mif\u001b[39;00m \u001b[38;5;129;01mnot\u001b[39;00m \u001b[43mgame\u001b[49m\u001b[38;5;241;43m.\u001b[39;49m\u001b[43mboard\u001b[49m\u001b[38;5;241;43m.\u001b[39;49m\u001b[43mis_valid_move\u001b[49m(move):\n\u001b[1;32m     17\u001b[0m     \u001b[38;5;28mprint\u001b[39m(\u001b[38;5;124m\"\u001b[39m\u001b[38;5;124mInvalid move: \u001b[39m\u001b[38;5;124m\"\u001b[39m, move)\n\u001b[1;32m     18\u001b[0m     \u001b[38;5;28;01mbreak\u001b[39;00m\n",
      "\u001b[0;31mAttributeError\u001b[0m: 'Board' object has no attribute 'is_valid_move'"
     ]
    }
   ],
   "source": [
    "def play_game():\n",
    "    board = Board()\n",
    "    game = TicTacToe(board)\n",
    "    player1 = RandomPlayer(game)\n",
    "    player2 = RandomPlayer(game)\n",
    "    players = [player1, player2]\n",
    "    current_player = 0\n",
    "\n",
    "    while not game.is_over:\n",
    "        game.board.print_board()\n",
    "        move = players[current_player].get_move(game)\n",
    "        print(move)\n",
    "        if not move:\n",
    "            print(\"Player \", current_player, \" should play, but the board is full\")\n",
    "            break\n",
    "        if not game.board.is_valid_move(move):\n",
    "            print(\"Invalid move: \", move)\n",
    "            break\n",
    "        game.make_move(move)\n",
    "        current_player = 1 - current_player\n",
    "\n",
    "    game.board.print_board()\n",
    "    print(\"Game over. Winner: \", game.get_winner())\n",
    "\n",
    "play_game()\n"
   ]
  },
  {
   "cell_type": "code",
   "execution_count": null,
   "metadata": {},
   "outputs": [],
   "source": []
  }
 ],
 "metadata": {
  "kernelspec": {
   "display_name": "RL_test",
   "language": "python",
   "name": "python3"
  },
  "language_info": {
   "codemirror_mode": {
    "name": "ipython",
    "version": 3
   },
   "file_extension": ".py",
   "mimetype": "text/x-python",
   "name": "python",
   "nbconvert_exporter": "python",
   "pygments_lexer": "ipython3",
   "version": "3.11.5"
  }
 },
 "nbformat": 4,
 "nbformat_minor": 2
}
