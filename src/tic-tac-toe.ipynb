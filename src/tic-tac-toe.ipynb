{
 "cells": [
  {
   "cell_type": "code",
   "execution_count": 6,
   "metadata": {},
   "outputs": [],
   "source": [
    "import numpy as np\n",
    "import copy"
   ]
  },
  {
   "cell_type": "code",
   "execution_count": 9,
   "metadata": {},
   "outputs": [
    {
     "ename": "ImportError",
     "evalue": "cannot import name 'Node' from 'node' (/Users/marcoeterno/Desktop/Coding/Alphazero/src/node.py)",
     "output_type": "error",
     "traceback": [
      "\u001b[0;31m---------------------------------------------------------------------------\u001b[0m",
      "\u001b[0;31mImportError\u001b[0m                               Traceback (most recent call last)",
      "Cell \u001b[0;32mIn[9], line 3\u001b[0m\n\u001b[1;32m      1\u001b[0m \u001b[38;5;28;01mfrom\u001b[39;00m \u001b[38;5;21;01mboard\u001b[39;00m \u001b[38;5;28;01mimport\u001b[39;00m Board\n\u001b[1;32m      2\u001b[0m \u001b[38;5;28;01mfrom\u001b[39;00m \u001b[38;5;21;01mtictactoe\u001b[39;00m \u001b[38;5;28;01mimport\u001b[39;00m TicTacToe\n\u001b[0;32m----> 3\u001b[0m \u001b[38;5;28;01mfrom\u001b[39;00m \u001b[38;5;21;01mnode\u001b[39;00m \u001b[38;5;28;01mimport\u001b[39;00m Node\n\u001b[1;32m      4\u001b[0m \u001b[38;5;28;01mfrom\u001b[39;00m \u001b[38;5;21;01magent\u001b[39;00m \u001b[38;5;28;01mimport\u001b[39;00m Agent, RandomPlayer\n",
      "\u001b[0;31mImportError\u001b[0m: cannot import name 'Node' from 'node' (/Users/marcoeterno/Desktop/Coding/Alphazero/src/node.py)"
     ]
    }
   ],
   "source": [
    "from board import Board\n",
    "from tictactoe import TicTacToe\n",
    "from agent import Agent, RandomPlayer\n",
    "from node import Node\n"
   ]
  },
  {
   "cell_type": "code",
   "execution_count": 1,
   "metadata": {},
   "outputs": [
    {
     "ename": "NameError",
     "evalue": "name 'TicTacToe' is not defined",
     "output_type": "error",
     "traceback": [
      "\u001b[0;31m---------------------------------------------------------------------------\u001b[0m",
      "\u001b[0;31mNameError\u001b[0m                                 Traceback (most recent call last)",
      "Cell \u001b[0;32mIn[1], line 1\u001b[0m\n\u001b[0;32m----> 1\u001b[0m \u001b[38;5;28;43;01mclass\u001b[39;49;00m\u001b[43m \u001b[49m\u001b[38;5;21;43;01mMCTS\u001b[39;49;00m\u001b[43m:\u001b[49m\n\u001b[1;32m      2\u001b[0m \u001b[43m    \u001b[49m\u001b[38;5;28;43;01mdef\u001b[39;49;00m\u001b[43m \u001b[49m\u001b[38;5;21;43m__init__\u001b[39;49m\u001b[43m(\u001b[49m\u001b[38;5;28;43mself\u001b[39;49m\u001b[43m,\u001b[49m\u001b[43m \u001b[49m\u001b[43mgame\u001b[49m\u001b[43m:\u001b[49m\u001b[43m \u001b[49m\u001b[43mTicTacToe\u001b[49m\u001b[43m,\u001b[49m\u001b[43m \u001b[49m\u001b[43magent\u001b[49m\u001b[43m:\u001b[49m\u001b[43m \u001b[49m\u001b[43mAgent\u001b[49m\u001b[43m,\u001b[49m\u001b[43m \u001b[49m\u001b[43mnum_simulations\u001b[49m\u001b[38;5;241;43m=\u001b[39;49m\u001b[38;5;241;43m1000\u001b[39;49m\u001b[43m)\u001b[49m\u001b[43m:\u001b[49m\n\u001b[1;32m      3\u001b[0m \u001b[43m        \u001b[49m\u001b[38;5;28;43mself\u001b[39;49m\u001b[38;5;241;43m.\u001b[39;49m\u001b[43mgame\u001b[49m\u001b[43m \u001b[49m\u001b[38;5;241;43m=\u001b[39;49m\u001b[43m \u001b[49m\u001b[43mgame\u001b[49m\n",
      "Cell \u001b[0;32mIn[1], line 2\u001b[0m, in \u001b[0;36mMCTS\u001b[0;34m()\u001b[0m\n\u001b[1;32m      1\u001b[0m \u001b[38;5;28;01mclass\u001b[39;00m \u001b[38;5;21;01mMCTS\u001b[39;00m:\n\u001b[0;32m----> 2\u001b[0m     \u001b[38;5;28;01mdef\u001b[39;00m \u001b[38;5;21m__init__\u001b[39m(\u001b[38;5;28mself\u001b[39m, game: \u001b[43mTicTacToe\u001b[49m, agent: Agent, num_simulations\u001b[38;5;241m=\u001b[39m\u001b[38;5;241m1000\u001b[39m):\n\u001b[1;32m      3\u001b[0m         \u001b[38;5;28mself\u001b[39m\u001b[38;5;241m.\u001b[39mgame \u001b[38;5;241m=\u001b[39m game\n\u001b[1;32m      4\u001b[0m         \u001b[38;5;28mself\u001b[39m\u001b[38;5;241m.\u001b[39mnum_simulations \u001b[38;5;241m=\u001b[39m num_simulations\n",
      "\u001b[0;31mNameError\u001b[0m: name 'TicTacToe' is not defined"
     ]
    }
   ],
   "source": [
    "class MCTS:\n",
    "    def __init__(self, game: TicTacToe, agent: Agent, num_simulations=1000):\n",
    "        self.game = game\n",
    "        self.num_simulations = num_simulations\n",
    "        self.agent = agent\n",
    "        self.root = Node(game)\n",
    "    \n",
    "    def search_leaf(self, node):\n",
    "        if len(node.children) == 0:\n",
    "            return node\n",
    "        else:\n",
    "            move = node.get_best_child()\n",
    "            game = copy.deepcopy(node.game)\n",
    "            self.game.make_move(move)\n",
    "            return self.search_leaf(node.get_best_child())\n",
    "    \n",
    "    def rollout(self, node):\n",
    "        \"\"\"Simulates a game from the current node to the end and returns the winner\n",
    "        :param node: the node to simulate from\n",
    "        \"\"\"\n",
    "        game = copy.deepcopy(node.game) # \n",
    "        if game.check_winner() != 0:\n",
    "            return game.check_winner()\n",
    "        winner = self.agent.play_one_game(game)\n",
    "        return winner\n",
    "        \n",
    "    def backpropagate(self, node, result):\n",
    "        while node != None:\n",
    "            node.update(result)\n",
    "            node = node.parent\n",
    "    \n",
    "    def do_one_step(self, node):\n",
    "        game = copy.deepcopy(node.game)\n",
    "        node = self.search_leaf(node)\n",
    "        if node.visits == 0:\n",
    "            node.add_all_children()\n",
    "            result = self.rollout(node)\n",
    "            self.backpropagate(node, result)\n",
    "        else:\n",
    "            if game.check_winner() != 0:\n",
    "                return node.game.check_winner()\n",
    "            elif game.check_draw():\n",
    "                return 0\n",
    "            else:\n",
    "                new_game = copy.deepcopy(node.game)\n",
    "                new_game.make_move(self.agent.get_move(new_game))\n",
    "                return self.simulate(Node(new_game))\n",
    "    \n",
    "    def find_best_move_with_mcts(self):\n",
    "        while self.num_simulations > 0:\n",
    "            self.do_one_step(self.root)\n",
    "            self.num_simulations -= 1\n",
    "        return self.root.get_best_child()"
   ]
  },
  {
   "cell_type": "code",
   "execution_count": 25,
   "metadata": {},
   "outputs": [
    {
     "ename": "IndexError",
     "evalue": "only integers, slices (`:`), ellipsis (`...`), numpy.newaxis (`None`) and integer or boolean arrays are valid indices",
     "output_type": "error",
     "traceback": [
      "\u001b[0;31m---------------------------------------------------------------------------\u001b[0m",
      "\u001b[0;31mIndexError\u001b[0m                                Traceback (most recent call last)",
      "Cell \u001b[0;32mIn[25], line 6\u001b[0m\n\u001b[1;32m      3\u001b[0m mcts \u001b[38;5;241m=\u001b[39m MCTS(game, agent\u001b[38;5;241m=\u001b[39mplayer)\n\u001b[1;32m      5\u001b[0m \u001b[38;5;28;01mwhile\u001b[39;00m game\u001b[38;5;241m.\u001b[39mcheck_winner() \u001b[38;5;241m==\u001b[39m \u001b[38;5;241m0\u001b[39m \u001b[38;5;129;01mand\u001b[39;00m \u001b[38;5;129;01mnot\u001b[39;00m game\u001b[38;5;241m.\u001b[39mcheck_draw():\n\u001b[0;32m----> 6\u001b[0m     move \u001b[38;5;241m=\u001b[39m \u001b[43mmcts\u001b[49m\u001b[38;5;241;43m.\u001b[39;49m\u001b[43mfind_best_move_with_mcts\u001b[49m\u001b[43m(\u001b[49m\u001b[43m)\u001b[49m\n\u001b[1;32m      7\u001b[0m     game\u001b[38;5;241m.\u001b[39mmake_move(move)\n\u001b[1;32m      8\u001b[0m     game\u001b[38;5;241m.\u001b[39mboard\u001b[38;5;241m.\u001b[39mprint_board()\n",
      "Cell \u001b[0;32mIn[24], line 51\u001b[0m, in \u001b[0;36mMCTS.find_best_move_with_mcts\u001b[0;34m(self)\u001b[0m\n\u001b[1;32m     49\u001b[0m \u001b[38;5;28;01mdef\u001b[39;00m \u001b[38;5;21mfind_best_move_with_mcts\u001b[39m(\u001b[38;5;28mself\u001b[39m):\n\u001b[1;32m     50\u001b[0m     \u001b[38;5;28;01mwhile\u001b[39;00m \u001b[38;5;28mself\u001b[39m\u001b[38;5;241m.\u001b[39mnum_simulations \u001b[38;5;241m>\u001b[39m \u001b[38;5;241m0\u001b[39m:\n\u001b[0;32m---> 51\u001b[0m         \u001b[38;5;28;43mself\u001b[39;49m\u001b[38;5;241;43m.\u001b[39;49m\u001b[43mdo_one_step\u001b[49m\u001b[43m(\u001b[49m\u001b[38;5;28;43mself\u001b[39;49m\u001b[38;5;241;43m.\u001b[39;49m\u001b[43mroot\u001b[49m\u001b[43m)\u001b[49m\n\u001b[1;32m     52\u001b[0m         \u001b[38;5;28mself\u001b[39m\u001b[38;5;241m.\u001b[39mnum_simulations \u001b[38;5;241m-\u001b[39m\u001b[38;5;241m=\u001b[39m \u001b[38;5;241m1\u001b[39m\n\u001b[1;32m     53\u001b[0m     \u001b[38;5;28;01mreturn\u001b[39;00m \u001b[38;5;28mself\u001b[39m\u001b[38;5;241m.\u001b[39mroot\u001b[38;5;241m.\u001b[39mget_best_child()\n",
      "Cell \u001b[0;32mIn[24], line 34\u001b[0m, in \u001b[0;36mMCTS.do_one_step\u001b[0;34m(self, node)\u001b[0m\n\u001b[1;32m     32\u001b[0m \u001b[38;5;28;01mdef\u001b[39;00m \u001b[38;5;21mdo_one_step\u001b[39m(\u001b[38;5;28mself\u001b[39m, node):\n\u001b[1;32m     33\u001b[0m     game \u001b[38;5;241m=\u001b[39m copy\u001b[38;5;241m.\u001b[39mdeepcopy(node\u001b[38;5;241m.\u001b[39mgame)\n\u001b[0;32m---> 34\u001b[0m     node \u001b[38;5;241m=\u001b[39m \u001b[38;5;28;43mself\u001b[39;49m\u001b[38;5;241;43m.\u001b[39;49m\u001b[43msearch_leaf\u001b[49m\u001b[43m(\u001b[49m\u001b[43mnode\u001b[49m\u001b[43m)\u001b[49m\n\u001b[1;32m     35\u001b[0m     \u001b[38;5;28;01mif\u001b[39;00m node\u001b[38;5;241m.\u001b[39mvisits \u001b[38;5;241m==\u001b[39m \u001b[38;5;241m0\u001b[39m:\n\u001b[1;32m     36\u001b[0m         node\u001b[38;5;241m.\u001b[39madd_all_children()\n",
      "Cell \u001b[0;32mIn[24], line 14\u001b[0m, in \u001b[0;36mMCTS.search_leaf\u001b[0;34m(self, node)\u001b[0m\n\u001b[1;32m     12\u001b[0m move \u001b[38;5;241m=\u001b[39m node\u001b[38;5;241m.\u001b[39mget_best_child()\n\u001b[1;32m     13\u001b[0m game \u001b[38;5;241m=\u001b[39m copy\u001b[38;5;241m.\u001b[39mdeepcopy(node\u001b[38;5;241m.\u001b[39mgame)\n\u001b[0;32m---> 14\u001b[0m \u001b[38;5;28;43mself\u001b[39;49m\u001b[38;5;241;43m.\u001b[39;49m\u001b[43mgame\u001b[49m\u001b[38;5;241;43m.\u001b[39;49m\u001b[43mmake_move\u001b[49m\u001b[43m(\u001b[49m\u001b[43mmove\u001b[49m\u001b[43m)\u001b[49m\n\u001b[1;32m     15\u001b[0m \u001b[38;5;28;01mreturn\u001b[39;00m \u001b[38;5;28mself\u001b[39m\u001b[38;5;241m.\u001b[39msearch_leaf(node\u001b[38;5;241m.\u001b[39mget_best_child())\n",
      "Cell \u001b[0;32mIn[8], line 11\u001b[0m, in \u001b[0;36mTicTacToe.make_move\u001b[0;34m(self, move)\u001b[0m\n\u001b[1;32m      6\u001b[0m \u001b[38;5;28;01mdef\u001b[39;00m \u001b[38;5;21mmake_move\u001b[39m(\u001b[38;5;28mself\u001b[39m, move:\u001b[38;5;28mint\u001b[39m):\n\u001b[1;32m      7\u001b[0m \u001b[38;5;250m    \u001b[39m\u001b[38;5;124;03m\"\"\"\u001b[39;00m\n\u001b[1;32m      8\u001b[0m \u001b[38;5;124;03m    Makes a move on the board for the current player and starts the turn to the other player\u001b[39;00m\n\u001b[1;32m      9\u001b[0m \u001b[38;5;124;03m    :param move: the position to make the move at\u001b[39;00m\n\u001b[1;32m     10\u001b[0m \u001b[38;5;124;03m    \"\"\"\u001b[39;00m\n\u001b[0;32m---> 11\u001b[0m     \u001b[38;5;28;43mself\u001b[39;49m\u001b[38;5;241;43m.\u001b[39;49m\u001b[43mboard\u001b[49m\u001b[38;5;241;43m.\u001b[39;49m\u001b[43mmake_move\u001b[49m\u001b[43m(\u001b[49m\u001b[43mmove\u001b[49m\u001b[43m,\u001b[49m\u001b[43m \u001b[49m\u001b[38;5;28;43mself\u001b[39;49m\u001b[38;5;241;43m.\u001b[39;49m\u001b[43mcurrent_player\u001b[49m\u001b[43m)\u001b[49m\n\u001b[1;32m     12\u001b[0m     \u001b[38;5;28mself\u001b[39m\u001b[38;5;241m.\u001b[39mcurrent_player \u001b[38;5;241m*\u001b[39m\u001b[38;5;241m=\u001b[39m \u001b[38;5;241m-\u001b[39m\u001b[38;5;241m1\u001b[39m\n",
      "Cell \u001b[0;32mIn[6], line 13\u001b[0m, in \u001b[0;36mBoard.make_move\u001b[0;34m(self, move, player)\u001b[0m\n\u001b[1;32m      7\u001b[0m \u001b[38;5;28;01mdef\u001b[39;00m \u001b[38;5;21mmake_move\u001b[39m(\u001b[38;5;28mself\u001b[39m, move:\u001b[38;5;28mint\u001b[39m,  player):\n\u001b[1;32m      8\u001b[0m \u001b[38;5;250m    \u001b[39m\u001b[38;5;124;03m\"\"\"\u001b[39;00m\n\u001b[1;32m      9\u001b[0m \u001b[38;5;124;03m    Makes a move on the board for a player at the given position\u001b[39;00m\n\u001b[1;32m     10\u001b[0m \u001b[38;5;124;03m    :param move: the position to make the move at\u001b[39;00m\n\u001b[1;32m     11\u001b[0m \u001b[38;5;124;03m    :param player: the player making the move (1 or -1)\u001b[39;00m\n\u001b[1;32m     12\u001b[0m \u001b[38;5;124;03m    \"\"\"\u001b[39;00m\n\u001b[0;32m---> 13\u001b[0m     \u001b[38;5;28;01mif\u001b[39;00m \u001b[38;5;28;43mself\u001b[39;49m\u001b[38;5;241;43m.\u001b[39;49m\u001b[43mboard\u001b[49m\u001b[43m[\u001b[49m\u001b[43mmove\u001b[49m\u001b[43m]\u001b[49m \u001b[38;5;241m==\u001b[39m \u001b[38;5;241m0\u001b[39m:\n\u001b[1;32m     14\u001b[0m         \u001b[38;5;28mself\u001b[39m\u001b[38;5;241m.\u001b[39mboard[move] \u001b[38;5;241m=\u001b[39m player\n\u001b[1;32m     15\u001b[0m     \u001b[38;5;28;01melse\u001b[39;00m:\n",
      "\u001b[0;31mIndexError\u001b[0m: only integers, slices (`:`), ellipsis (`...`), numpy.newaxis (`None`) and integer or boolean arrays are valid indices"
     ]
    }
   ],
   "source": [
    "game = TicTacToe()\n",
    "player = RandomPlayer()\n",
    "mcts = MCTS(game, agent=player)\n",
    "\n",
    "while game.check_winner() == 0 and not game.check_draw():\n",
    "    move = mcts.find_best_move_with_mcts()\n",
    "    game.make_move(move)\n",
    "    game.board.print_board()"
   ]
  },
  {
   "cell_type": "code",
   "execution_count": null,
   "metadata": {},
   "outputs": [],
   "source": []
  }
 ],
 "metadata": {
  "kernelspec": {
   "display_name": "RL_test",
   "language": "python",
   "name": "python3"
  },
  "language_info": {
   "codemirror_mode": {
    "name": "ipython",
    "version": 3
   },
   "file_extension": ".py",
   "mimetype": "text/x-python",
   "name": "python",
   "nbconvert_exporter": "python",
   "pygments_lexer": "ipython3",
   "version": "3.11.5"
  }
 },
 "nbformat": 4,
 "nbformat_minor": 2
}
