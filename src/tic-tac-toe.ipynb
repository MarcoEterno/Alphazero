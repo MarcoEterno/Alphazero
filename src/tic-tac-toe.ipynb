{
 "cells": [
  {
   "cell_type": "code",
   "execution_count": 31,
   "metadata": {},
   "outputs": [],
   "source": [
    "import numpy as np\n",
    "import copy"
   ]
  },
  {
   "cell_type": "code",
   "execution_count": 32,
   "metadata": {},
   "outputs": [],
   "source": [
    "from board import Board\n",
    "from tictactoe import TicTacToe\n",
    "from agent import Agent, RandomPlayer\n",
    "from treenode import TreeNode\n",
    "from mcts import MCTS"
   ]
  },
  {
   "cell_type": "code",
   "execution_count": 41,
   "metadata": {},
   "outputs": [
    {
     "name": "stdout",
     "output_type": "stream",
     "text": [
      "[0 0 0]\n",
      "[0 0 0]\n",
      "[0 0 0]\n",
      "7\n",
      "[0 0 0]\n",
      "[0 0 0]\n",
      "[0 1 0]\n",
      "2\n",
      "[ 0  0 -1]\n",
      "[0 0 0]\n",
      "[0 1 0]\n",
      "3\n",
      "[ 0  0 -1]\n",
      "[1 0 0]\n",
      "[0 1 0]\n",
      "0\n",
      "[-1  0 -1]\n",
      "[1 0 0]\n",
      "[0 1 0]\n",
      "6\n",
      "[-1  0 -1]\n",
      "[1 0 0]\n",
      "[1 1 0]\n",
      "4\n",
      "[-1  0 -1]\n",
      "[ 1 -1  0]\n",
      "[1 1 0]\n",
      "5\n",
      "[-1  0 -1]\n",
      "[ 1 -1  1]\n",
      "[1 1 0]\n",
      "8\n",
      "[-1  0 -1]\n",
      "[ 1 -1  1]\n",
      "[ 1  1 -1]\n",
      "Game over. Winner:  -1\n"
     ]
    }
   ],
   "source": [
    "def play_game():\n",
    "    board = Board()\n",
    "    game = TicTacToe(board)\n",
    "    player1 = RandomPlayer(game)\n",
    "    player2 = RandomPlayer(game)\n",
    "    players = [player1, player2]\n",
    "    current_player = 0\n",
    "\n",
    "    while not game.is_over:\n",
    "        game.board.print_board()\n",
    "        move = players[current_player].get_move(game)\n",
    "        print(move)\n",
    "        if move is None:\n",
    "            print(\"Player \", current_player, \" should play, but the board is full\")\n",
    "            break\n",
    "        if not board.board[move] == 0:\n",
    "            print(\"Invalid move: \", move)\n",
    "            break\n",
    "        game.make_move(move)\n",
    "        current_player = 1 - current_player\n",
    "\n",
    "    game.board.print_board()\n",
    "    print(\"Game over. Winner: \", game.check_winner())\n",
    "\n",
    "play_game()\n"
   ]
  },
  {
   "cell_type": "code",
   "execution_count": null,
   "metadata": {},
   "outputs": [],
   "source": [
    "def play_game_with_mcts():\n",
    "    board = Board()\n",
    "    game = TicTacToe(board)\n",
    "    player1 = RandomPlayer(game)\n",
    "    player2 = Agent(game, MCTS(game))\n",
    "    players = [player1, player2]\n",
    "    current_player = 0\n",
    "\n",
    "    while not game.is_over:\n",
    "        game.board.print_board()\n",
    "        move = players[current_player].get_move(game)\n",
    "        print(move)\n",
    "        if move is None:\n",
    "            print(\"Player \", current_player, \" should play, but the board is full\")\n",
    "            break\n",
    "        if not board.board[move] == 0:\n",
    "            print(\"Invalid move: \", move)\n",
    "            break\n",
    "        game.make_move(move)\n",
    "        current_player = 1 - current_player\n",
    "\n",
    "    game.board.print_board()\n",
    "    print(\"Game over. Winner: \", game.check_winner())"
   ]
  }
 ],
 "metadata": {
  "kernelspec": {
   "display_name": "RL_test",
   "language": "python",
   "name": "python3"
  },
  "language_info": {
   "codemirror_mode": {
    "name": "ipython",
    "version": 3
   },
   "file_extension": ".py",
   "mimetype": "text/x-python",
   "name": "python",
   "nbconvert_exporter": "python",
   "pygments_lexer": "ipython3",
   "version": "3.11.5"
  }
 },
 "nbformat": 4,
 "nbformat_minor": 2
}
